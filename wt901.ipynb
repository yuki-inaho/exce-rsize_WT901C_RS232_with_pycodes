{
 "cells": [
  {
   "cell_type": "code",
   "execution_count": 56,
   "metadata": {},
   "outputs": [
    {
     "name": "stdout",
     "output_type": "stream",
     "text": [
      "The autoreload extension is already loaded. To reload it, use:\n",
      "  %reload_ext autoreload\n"
     ]
    }
   ],
   "source": [
    "%load_ext autoreload\n",
    "%autoreload 2"
   ]
  },
  {
   "cell_type": "code",
   "execution_count": 82,
   "metadata": {},
   "outputs": [],
   "source": [
    "#PORT = \"/dev/ttyUSB1\"\n",
    "PORT = \"/dev/serial/by-id/usb-1a86_USB_Serial-if00-port0\"\n",
    "BAUDRATE = 9600"
   ]
  },
  {
   "cell_type": "code",
   "execution_count": 83,
   "metadata": {},
   "outputs": [],
   "source": [
    "from scripts.wt901c import WT901C_RS232\n",
    "wt901c = WT901C_RS232(PORT, BAUDRATE)"
   ]
  },
  {
   "cell_type": "code",
   "execution_count": 84,
   "metadata": {},
   "outputs": [
    {
     "name": "stdout",
     "output_type": "stream",
     "text": [
      "Sensor is already opened\n",
      "[-0.02197266  0.02929688 -0.99902344] [ 11740. -10562.  -6136.] [178.3190918    1.20849609  42.94555664] [0. 0. 0.]\n"
     ]
    }
   ],
   "source": [
    "wt901c.open()\n",
    "wt901c.update()\n",
    "print(wt901c.acceration, wt901c.magnetic, wt901c.angle_rpy, wt901c.angular_velocity)\n",
    "wt901c.close()"
   ]
  }
 ],
 "metadata": {
  "kernelspec": {
   "display_name": "Python 3.9.2 ('excersize-wt901c-rs232-with-pycodes-xON6onDL-py3.9')",
   "language": "python",
   "name": "python3"
  },
  "language_info": {
   "codemirror_mode": {
    "name": "ipython",
    "version": 3
   },
   "file_extension": ".py",
   "mimetype": "text/x-python",
   "name": "python",
   "nbconvert_exporter": "python",
   "pygments_lexer": "ipython3",
   "version": "3.9.2"
  },
  "orig_nbformat": 4,
  "vscode": {
   "interpreter": {
    "hash": "8bc7efa6574fcb28fa6481c54cecfcc35a7e641f03eb4c47e58b735bff10291e"
   }
  }
 },
 "nbformat": 4,
 "nbformat_minor": 2
}
